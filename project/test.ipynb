# demo.ipynb (Jupyter Notebook converted to script-style cells for preview)

# Cell 1: Setup and Imports
import os
import pandas as pd
import numpy as np
import matplotlib.pyplot as plt
import joblib
from sklearn.metrics import mean_absolute_error, mean_squared_error, classification_report, roc_auc_score, RocCurveDisplay

# Paths (adjust if needed)
data_path = "data/dataset.csv"  # replace with your real path
output_dir = "outputs"
signal_model_path = os.path.join(output_dir, "random_forest_signal.pkl")
rf_model_path = os.path.join(output_dir, "random_forest_loss.pkl")
logistic_model_path = os.path.join(output_dir, "logistic_regression_loss.pkl")

# Cell 2: Load Data
print("Loading dataset...")
df = pd.read_csv(data_path)
df = df[(df['losses'] >= 1) & (df['losses'] <= 40)].copy()
print(f"Dataset shape: {df.shape}")
df.head()

# Cell 3: Visualize Original Loss Distribution
plt.figure(figsize=(8, 5))
df['losses'].hist(bins=40, edgecolor='black')
plt.title("Distribution of Filtered Losses (1–40)")
plt.xlabel("Losses")
plt.ylabel("Frequency")
plt.grid(True)
plt.show()

# Cell 4: Load Trained Models
print("Loading trained models...")
signal_model = joblib.load(signal_model_path)
rf_model = joblib.load(rf_model_path)
logistic_model = joblib.load(logistic_model_path)
print("Models loaded.")

# Cell 5: Predict Signal
sample_df = df[['dist_1', 'dist_2', 'signal']].copy()
signal_preds = signal_model.predict(sample_df)
print(f"Signal predictions (first 5): {signal_preds[:5]}")

# Cell 6: Visualize Signal Predictions vs Actual
plt.figure(figsize=(10, 5))
plt.plot(df['signal'].values[:100], label='Actual Signal', marker='o')
plt.plot(signal_preds[:100], label='Predicted Signal', marker='x')
plt.title("Signal Prediction (First 100 Samples)")
plt.xlabel("Sample Index")
plt.ylabel("Signal")
plt.legend()
plt.grid(True)
plt.show()

# Cell 7: Predict Loss Probabilities
sample_df['predicted_signal'] = signal_preds
rf_probs = rf_model.predict_proba(sample_df[['dist_1', 'dist_2', 'predicted_signal']])[:, 1]
logistic_probs = logistic_model.predict_proba(sample_df[['dist_1', 'dist_2', 'predicted_signal']])[:, 1]

# Cell 8: Visualize ROC Curve (Optional if true labels exist)
if 'loss_th_25_next' in df.columns:
    RocCurveDisplay.from_predictions(df['loss_th_25_next'], logistic_probs, name='Logistic')
    RocCurveDisplay.from_predictions(df['loss_th_25_next'], rf_probs, name='Random Forest')
    plt.title("ROC Curve Comparison")
    plt.grid(True)
    plt.legend(loc="lower right")
    plt.show()

# Cell 9: Compare Probabilities
plt.figure(figsize=(10, 5))
plt.plot(logistic_probs[:100], label='Logistic Prob', alpha=0.7)
plt.plot(rf_probs[:100], label='RF Prob', alpha=0.7)
plt.title("Loss Exceeding Threshold Probability (First 100 Samples)")
plt.xlabel("Sample Index")
plt.ylabel("Probability")
plt.legend()
plt.grid(True)
plt.show()

# Cell 10: Conclusion Summary
print("This notebook demonstrates how to:")
print("1. Load trained models for signal and loss prediction")
print("2. Predict future signal values")
print("3. Predict the probability of high packet loss")
print("4. Visualize model predictions and metrics")
